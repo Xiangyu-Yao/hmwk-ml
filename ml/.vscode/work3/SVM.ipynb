{
 "cells": [
  {
   "cell_type": "code",
   "execution_count": 27,
   "metadata": {},
   "outputs": [],
   "source": [
    "from sklearn import svm\n",
    "from torch.utils.data import Dataset\n",
    "from torchvision.transforms import transforms\n",
    "import cv2 as cv\n",
    "import os"
   ]
  },
  {
   "cell_type": "code",
   "execution_count": 28,
   "metadata": {},
   "outputs": [],
   "source": [
    "class MyDS(Dataset):\n",
    "    def __init__(self, path):\n",
    "        self.transform = transforms.ToTensor()\n",
    "        self.root = path\n",
    "        # 进入omniglot文件夹\n",
    "        self.f = [\n",
    "            os.path.join(self.root, f)\n",
    "            for f in os.listdir(self.root)\n",
    "            if os.path.isdir(os.path.join(self.root, f))\n",
    "        ]\n",
    "        print(self.f)\n",
    "        self.fpath = []\n",
    "        # 获取omniglot下的子文件夹\n",
    "        for dir in self.f:\n",
    "            path1 = [\n",
    "                os.path.join(dir, file) for file in os.listdir(dir) if os.path.isdir(os.path.join(dir, file))\n",
    "            ]\n",
    "            for dir0 in path1:\n",
    "                self.fpath.append(dir0)\n",
    "        print(len(self.fpath))\n",
    "        # 获取子文件夹下的character子文件夹\n",
    "        self.characters = []\n",
    "        for dir1 in self.fpath:\n",
    "            ch = [\n",
    "                os.path.join(dir1, c) for c in os.listdir(dir1) if os.path.isdir(os.path.join(dir1, c))\n",
    "            ]\n",
    "            for dir0 in ch:\n",
    "                self.characters.append(dir0)\n",
    "        print(len(self.characters))\n",
    "        # 获取图片路径与label\n",
    "        images = []\n",
    "        labels = []\n",
    "        for dir2 in self.characters:\n",
    "            img_path = [\n",
    "                os.path.join(dir2, i) for i in os.listdir(dir2) if os.path.isdir(os.path.join(dir2, i))\n",
    "            ]\n",
    "            images.append(img_path)\n",
    "            \n",
    "            for n in os.listdir(dir):\n",
    "                sp = n.split('_')\n",
    "                label = sp[0]\n",
    "                labels.append(label)\n",
    "                \n",
    "        self.images = images\n",
    "        self.labels = labels\n",
    "    \n",
    "    def __len__(self):\n",
    "        return len(self.images)\n",
    "    \n",
    "    def __getitem__(self, idx):\n",
    "        image = self.transform(cv.imread(self.images[idx]))\n",
    "        label = self.labels[idx]\n",
    "        return image, label"
   ]
  },
  {
   "cell_type": "code",
   "execution_count": 29,
   "metadata": {},
   "outputs": [
    {
     "name": "stdout",
     "output_type": "stream",
     "text": [
      "['/home/nekozo/newSpace/modelData/omniglot/omniglot/images_evaluation', '/home/nekozo/newSpace/modelData/omniglot/omniglot/images_background']\n",
      "50\n",
      "1623\n"
     ]
    }
   ],
   "source": [
    "trn_ds = MyDS(\"/home/nekozo/newSpace/modelData/omniglot/omniglot\")"
   ]
  }
 ],
 "metadata": {
  "kernelspec": {
   "display_name": "pytorch",
   "language": "python",
   "name": "python3"
  },
  "language_info": {
   "codemirror_mode": {
    "name": "ipython",
    "version": 3
   },
   "file_extension": ".py",
   "mimetype": "text/x-python",
   "name": "python",
   "nbconvert_exporter": "python",
   "pygments_lexer": "ipython3",
   "version": "3.11.8"
  }
 },
 "nbformat": 4,
 "nbformat_minor": 2
}
